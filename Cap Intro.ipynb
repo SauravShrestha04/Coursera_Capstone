{
 "cells": [
  {
   "cell_type": "markdown",
   "metadata": {},
   "source": [
    "# PROJECT INTRODUCTION\n"
   ]
  },
  {
   "cell_type": "markdown",
   "metadata": {},
   "source": [
    "**Problem Description** <br />\n",
    "&emsp;In this project we will be analysing the data of  from *foursquare* and the *postal code* data to determine which places have major number of visitors.This project will be beneficial for any individual who is looking forward to opening a restaurant or cafe around Canada area that is in the proximity of the postal codes been used to prepare this project.Therefore, this project will analyse the data and determine which postal code areas are high attractions.\n",
    "All in all, this project will be an asset for an entrepreneur (to determine which place will attract more customer),tourist and also to law enforcement officers in certain cases to tighten the security in most popular areas."
   ]
  },
  {
   "cell_type": "markdown",
   "metadata": {},
   "source": [
    "**Data Usage**  <br />\n",
    "&emsp; The data that will be used used in this project will mainly be collected from two major sources for the analysis. <br />\n",
    "**1. Wikipedia postal code:** <br />\n",
    "&emsp;The postal code that will be used for the analysis of the certain areas of Canada will be retrieved from the free source *Wikipedia* [link](https://en.wikipedia.org/wiki/Postal_codes_in_Canada#Table_of_all_postal_codes).This link has all the postal code related information for Canada, which will play a vital role in analysis of data from *foursquare*.<br />\n",
    "**2. Foursquare:**<br />\n",
    "&emsp;The data retrieved from *foursquare* will be used to analyze the information of different venues and events that is happening withiin the proximity of the postal code data retrieved from *Wikipedia*.In addition, the location data will be used to segment, target and determine the presence in each postal code vicinity.<br />\n",
    "&emsp;The data will be mainly processed through clusters, to segment on the basis of the neighborhood.In this analysis we will build k-means clustering algorithm, use it and analyze the data.\n",
    "<br /><br />\n",
    "&emsp;Furthermore, the data that will be used for analysis consist of different Borough information on the basis of which we will determine venues name and categories.In addition, we use explore function, but have limited the analysis only to radius of 600 in each Toronoto neighborhood and number returned venues by Foursquare API is limited to 50.Since Foursquare is a location data provider about various events within the area of retriever interest, the information such as venues name, location, menus are included.Therefore, Foursquare deemed to be the major data source, as all the information for the analysis will be obtained through the API."
   ]
  },
  {
   "cell_type": "code",
   "execution_count": null,
   "metadata": {},
   "outputs": [],
   "source": []
  }
 ],
 "metadata": {
  "kernelspec": {
   "display_name": "Python 3",
   "language": "python",
   "name": "python3"
  },
  "language_info": {
   "codemirror_mode": {
    "name": "ipython",
    "version": 3
   },
   "file_extension": ".py",
   "mimetype": "text/x-python",
   "name": "python",
   "nbconvert_exporter": "python",
   "pygments_lexer": "ipython3",
   "version": "3.7.0"
  }
 },
 "nbformat": 4,
 "nbformat_minor": 2
}
