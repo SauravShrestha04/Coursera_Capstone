{
 "cells": [
  {
   "cell_type": "markdown",
   "metadata": {},
   "source": [
    "# INSURANCE DATASET ANALYSIS"
   ]
  },
  {
   "cell_type": "markdown",
   "metadata": {},
   "source": [
    "&emsp; This project will determine probability of a person of  hiring an attorney.In this analysis various factors will be taken into consideration to conclude with a decision of *yes* or *no*.Furthermore, various factors like an individuals' gender,current insurance status, age of the victims and the physical loss.This analysis will help the insurance company determine what segments of people are most likely to hire a lawyer to claim their insurance."
   ]
  },
  {
   "cell_type": "markdown",
   "metadata": {},
   "source": [
    "&emsp;In addition, the data will help the insurance company perdict what are the chances of an individual willing to hire an attorney based on various consideration, of whether the victim was wearing a seatbelt or not at the time of the incident.Therefore, this will help the insurance company to predict its claimer(victims) based on the data of the previous data.\n",
    "The data will be processed through **logistic regression model** which will provide with a yes or no prediction."
   ]
  },
  {
   "cell_type": "code",
   "execution_count": null,
   "metadata": {},
   "outputs": [],
   "source": []
  }
 ],
 "metadata": {
  "kernelspec": {
   "display_name": "Python 3",
   "language": "python",
   "name": "python3"
  },
  "language_info": {
   "codemirror_mode": {
    "name": "ipython",
    "version": 3
   },
   "file_extension": ".py",
   "mimetype": "text/x-python",
   "name": "python",
   "nbconvert_exporter": "python",
   "pygments_lexer": "ipython3",
   "version": "3.7.0"
  }
 },
 "nbformat": 4,
 "nbformat_minor": 2
}
